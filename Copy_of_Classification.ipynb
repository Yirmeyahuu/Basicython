{
  "nbformat": 4,
  "nbformat_minor": 0,
  "metadata": {
    "colab": {
      "provenance": [],
      "include_colab_link": true
    },
    "kernelspec": {
      "name": "python3",
      "display_name": "Python 3"
    },
    "language_info": {
      "name": "python"
    }
  },
  "cells": [
    {
      "cell_type": "markdown",
      "metadata": {
        "id": "view-in-github",
        "colab_type": "text"
      },
      "source": [
        "<a href=\"https://colab.research.google.com/github/Yirmeyahuu/Basicython/blob/main/Copy_of_Classification.ipynb\" target=\"_parent\"><img src=\"https://colab.research.google.com/assets/colab-badge.svg\" alt=\"Open In Colab\"/></a>"
      ]
    },
    {
      "cell_type": "markdown",
      "source": [
        "### Classification using Logistic Regression and K-NN"
      ],
      "metadata": {
        "id": "eizlEav7PT9G"
      }
    },
    {
      "cell_type": "markdown",
      "source": [
        "**Classification** is a type of supervised machine learning task where the goal is to predict the categorical label of a given input.\n",
        "In simpler terms, classification involves predicting which category or class an instance belongs to based on its features.\n",
        "\n",
        "For example, given an email, the task might be to classify it as either spam or not spam, or given an image of an animal, the task might be to classify the image as a cat, dog, or horse."
      ],
      "metadata": {
        "id": "L-RfhClcPqVX"
      }
    },
    {
      "cell_type": "markdown",
      "source": [
        "**Types of Classification**\n",
        "\n",
        "**Binary**\n",
        "There are only two possible classes or categories.\n",
        "\n",
        "*  Predicting if an email is spam or not spam.\n",
        "*  Predicting if buy or sell.\n",
        "\n",
        "**Multi-class classification**, there are more than two possible classes or categories, and each input is classified into one of these multiple classes.\n",
        "\n",
        "\n",
        "*  Predicting the type of animal in an image, where the classes could be cat, dog, horse, etc.\n",
        "*   Predicting which category a news article belongs to: Politics, Sports, Entertainment, etc.\n",
        "\n",
        "\n",
        "\n",
        "\n"
      ],
      "metadata": {
        "id": "SmWqSNV-QNYE"
      }
    },
    {
      "cell_type": "markdown",
      "source": [
        "## Spam Detection with Full Metrics & Visualization"
      ],
      "metadata": {
        "id": "gvF3Mz5PRbjS"
      }
    },
    {
      "cell_type": "markdown",
      "source": [
        "**Import Libraries**"
      ],
      "metadata": {
        "id": "Y83rRGTnRTxH"
      }
    },
    {
      "cell_type": "code",
      "source": [
        "import pandas as pd\n",
        "import numpy as np\n",
        "import matplotlib.pyplot as plt\n",
        "from sklearn.model_selection import train_test_split\n",
        "from sklearn.preprocessing import StandardScaler\n",
        "from sklearn.feature_extraction.text import CountVectorizer\n",
        "from sklearn.linear_model import LogisticRegression\n",
        "from sklearn.neighbors import KNeighborsClassifier\n",
        "from sklearn.metrics import confusion_matrix, ConfusionMatrixDisplay\n",
        "from sklearn.decomposition import PCA"
      ],
      "metadata": {
        "id": "AV7wUPDPRXaT"
      },
      "execution_count": null,
      "outputs": []
    },
    {
      "cell_type": "markdown",
      "source": [
        "**Load Mock Data**"
      ],
      "metadata": {
        "id": "PDLAZ30CRmhQ"
      }
    },
    {
      "cell_type": "code",
      "source": [
        "data = {\n",
        "    \"text\": [\n",
        "        \"Congratulations! You've won a free ticket\",\n",
        "        \"Can we reschedule our meeting?\",\n",
        "        \"Exclusive deal just for you, click now!\",\n",
        "        \"Don't forget to submit your report\",\n",
        "        \"Limited time offer, earn money fast\",\n",
        "        \"Dinner at my place tonight?\",\n",
        "        \"Claim your free gift card today\",\n",
        "        \"Team call postponed to 3 PM\",\n",
        "        \"Win a brand new car instantly\",\n",
        "        \"Project update attached\",\n",
        "        \"Get your free trial now\",\n",
        "        \"Lunch tomorrow at 12?\",\n",
        "        \"Urgent! Verify your account immediately\",\n",
        "        \"Reminder: doctor appointment at 5 PM\",\n",
        "        \"Earn cash online easily\",\n",
        "        \"Weekly newsletter from HR\",\n",
        "        \"Special promotion ends today\",\n",
        "        \"Can you review the presentation slides?\",\n",
        "        \"Free subscription for limited users\",\n",
        "        \"Happy birthday! Let's celebrate!\"\n",
        "    ],\n",
        "    \"label\": [\n",
        "        1,0,1,0,1,0,1,0,1,0,1,0,1,0,1,0,1,0,1,0\n",
        "    ]\n",
        "}"
      ],
      "metadata": {
        "id": "mi-SfqsyRmPp"
      },
      "execution_count": null,
      "outputs": []
    },
    {
      "cell_type": "markdown",
      "source": [
        "**Convert to Panda Frame**"
      ],
      "metadata": {
        "id": "0UoYf_W9RudV"
      }
    },
    {
      "cell_type": "code",
      "source": [
        "df = pd.DataFrame(data)"
      ],
      "metadata": {
        "id": "jgARM2m2RxTq"
      },
      "execution_count": null,
      "outputs": []
    },
    {
      "cell_type": "markdown",
      "source": [
        "**Conver text data to numerical Features**\n",
        "\n",
        "Messages:\n",
        "1. \"Free money!!!\"\n",
        "2. \"Seminar at 9AM\"\n",
        "\n",
        "Vocabulary: [\"9am\", \"Free\", \"Seminar\", \"money\"] -> all Unique Words in dataset\n",
        "\n",
        "Counts:\n",
        "\n",
        "Message 1 → [0, 1, 0, 1]  # \"Free\" and \"money\" appear once\n",
        "\n",
        "Message 2 → [1, 0, 1, 0]  # \"9AM\" and \"Seminar\" appear once\n",
        "\n",
        "\n",
        "\n"
      ],
      "metadata": {
        "id": "OIi7OaRCSGdW"
      }
    },
    {
      "cell_type": "code",
      "source": [
        "vectorizer = CountVectorizer()\n",
        "X = vectorizer.fit_transform(df['text']).toarray() # learn\n",
        "y = df['label']"
      ],
      "metadata": {
        "id": "bFYgklxuRtju"
      },
      "execution_count": null,
      "outputs": []
    },
    {
      "cell_type": "markdown",
      "source": [
        "**Visualize Word Count**\n",
        "\n",
        "Here we’re turning each message into numbers so the computer can understand it. Each `row is a message`, e`ach column is a word`, and the color shows how many times that word appears in the message. Brighter colors mean the word shows up more"
      ],
      "metadata": {
        "id": "7thEjxHyTBBA"
      }
    },
    {
      "cell_type": "code",
      "source": [
        "df_table = pd.DataFrame(X, columns=vectorizer.get_feature_names_out())\n",
        "df_table.index = [f\"Msg {i+1}\" for i in range(X.shape[0])]\n",
        "print(\"Word Count Table:\")\n",
        "display(df_table)"
      ],
      "metadata": {
        "id": "7GlzRRQDTAK4"
      },
      "execution_count": null,
      "outputs": []
    },
    {
      "cell_type": "markdown",
      "source": [
        "**Split Dataset for Training and Test**\n",
        "\n",
        "We want to train the model on some data and test it on unseen data to see how well it works.\n",
        "\n",
        "`test_size=0.3` 30% for Training\n",
        "\n",
        " `random_state=42` Just a seed Key so that the Test and Training will remain the same everytime we run.\n",
        "\n",
        " Note: `train_test_split` return 3 values (common in python)"
      ],
      "metadata": {
        "id": "eDHaFmSVYGt1"
      }
    },
    {
      "cell_type": "code",
      "source": [
        "X_train, X_test, y_train, y_test = train_test_split(X, y, test_size=0.3, random_state=42)"
      ],
      "metadata": {
        "id": "UJ9OH9YHRlu7"
      },
      "execution_count": null,
      "outputs": []
    },
    {
      "cell_type": "markdown",
      "source": [
        "`fit_transform`\n",
        "Calculate mean & std on training data and scale it\n",
        "\n",
        "`transform(X_test)`\n",
        "Scale test data using training data stats\n"
      ],
      "metadata": {
        "id": "mvYQ_Q71ZB3f"
      }
    },
    {
      "cell_type": "code",
      "source": [
        "X_train, X_test, y_train, y_test = train_test_split(X, y, test_size=0.3, random_state=42)\n",
        "scaler = StandardScaler()\n",
        "X_train_scaled = scaler.fit_transform(X_train)\n",
        "X_test_scaled = scaler.transform(X_test)"
      ],
      "metadata": {
        "id": "Anu3BqGsZUVm"
      },
      "execution_count": null,
      "outputs": []
    },
    {
      "cell_type": "markdown",
      "source": [
        "**Train Logistic Regression**"
      ],
      "metadata": {
        "id": "MUVsZqdEZdxW"
      }
    },
    {
      "cell_type": "code",
      "source": [
        "lr = LogisticRegression()\n",
        "lr.fit(X_train_scaled, y_train) # Teach\n",
        "y_pred_lr = lr.predict(X_test_scaled) # Test Unseen\n",
        "y_prob_lr = lr.predict_proba(X_test_scaled)[:,1] # Returns the confidence that each message is spam (0.85 or 0.10)"
      ],
      "metadata": {
        "id": "Eu2e4n-OZj5S"
      },
      "execution_count": null,
      "outputs": []
    },
    {
      "cell_type": "markdown",
      "source": [
        "**Train K-NN**"
      ],
      "metadata": {
        "id": "KgbjK3BlafOq"
      }
    },
    {
      "cell_type": "code",
      "source": [
        "knn = KNeighborsClassifier(n_neighbors=3) # 3 votes to Win\n",
        "knn.fit(X_train_scaled, y_train) # Storing Training Data (memorize)\n",
        "y_pred_knn = knn.predict(X_test_scaled) # Using Test Data, Find the nearest neighbors based on word count"
      ],
      "metadata": {
        "id": "jLK3iLQPaeeN"
      },
      "execution_count": null,
      "outputs": []
    },
    {
      "cell_type": "markdown",
      "source": [
        "**Print Metrics Function**\n",
        "\n",
        "**Accuracy**\n",
        "`TP + TN / Total Samples`\n",
        "\n",
        "Measures the overall correctness of the model. It tells you the percentage of predictions (both positive and negative) that the model got right.\n",
        "\n",
        "**Precision** `TP / TP + FP`\n",
        "\n",
        "Measures how many of the positive predictions made by the model were actually correct.\n",
        "\n",
        "In other words, of all the times the model said \"positive,\" how often was it right\n",
        "\n",
        "*High Value means model is good avoding false positive.*\n",
        "\n",
        "**Recall** `TP / TP + FN`\n",
        "Measures how many actual positive cases the model correctly identified.\n",
        "\n",
        "In other words, of all the actual positive instances (e.g., spam), how many did the model correctly says positive?\n",
        "\n",
        "*High Value shows model good identifying positive.*\n",
        "\n",
        "**F1-Score** `(2 (Precision)(Recall)) / (Precision + Recall)`\n",
        "Harmonic mean of Precision and Recall.\n",
        "\n",
        "It combines both precision and recall into one metric to provide a balance between them.\n",
        "\n",
        "Useful when you need a single metric to evaluate performance.\n"
      ],
      "metadata": {
        "id": "WbqHySzHbYPk"
      }
    },
    {
      "cell_type": "code",
      "source": [
        "def print_metrics(y_true, y_pred, model_name):\n",
        "    cm = confusion_matrix(y_true, y_pred)\n",
        "    tn, fp, fn, tp = cm.ravel()\n",
        "\n",
        "    print(f\"--- {model_name} ---\")\n",
        "    print(\"Confusion Matrix:\\n\", cm)\n",
        "    print(\"True Positives (TP):\", tp)\n",
        "    print(\"True Negatives (TN):\", tn)\n",
        "    print(\"False Positives (FP):\", fp)\n",
        "    print(\"False Negatives (FN):\", fn)\n",
        "\n",
        "    accuracy = (tp + tn) / (tp + tn + fp + fn)\n",
        "    precision = tp / (tp + fp) if (tp + fp) > 0 else 0\n",
        "    recall = tp / (tp + fn) if (tp + fn) > 0 else 0\n",
        "    f1 = 2 * (precision * recall) / (precision + recall) if (precision + recall) > 0 else 0\n",
        "\n",
        "    print(f\"Accuracy: {accuracy:.2f}\")\n",
        "    print(f\"Precision: {precision:.2f}\")\n",
        "    print(f\"Recall: {recall:.2f}\")\n",
        "    print(f\"F1 Score: {f1:.2f}\")"
      ],
      "metadata": {
        "id": "lBx_j2GTZcyU"
      },
      "execution_count": null,
      "outputs": []
    },
    {
      "cell_type": "markdown",
      "source": [
        "**Logistic Regression Metrics**"
      ],
      "metadata": {
        "id": "z-YvWs_LbioS"
      }
    },
    {
      "cell_type": "code",
      "source": [
        "print_metrics(y_test, y_pred_lr, \"Logistic Regression\")"
      ],
      "metadata": {
        "id": "11iKopqVbnt_"
      },
      "execution_count": null,
      "outputs": []
    },
    {
      "cell_type": "markdown",
      "source": [
        "**K-NN Metrics**"
      ],
      "metadata": {
        "id": "nc7DYYdafy4U"
      }
    },
    {
      "cell_type": "code",
      "source": [
        "print_metrics(y_test, y_pred_knn, \"k-NN\")"
      ],
      "metadata": {
        "id": "uLQ4EO9_btel"
      },
      "execution_count": null,
      "outputs": []
    },
    {
      "cell_type": "markdown",
      "source": [
        "**Visualization**\n",
        "\n"
      ],
      "metadata": {
        "id": "6MQ6CwWBg7F1"
      }
    },
    {
      "cell_type": "code",
      "source": [
        "from matplotlib.colors import ListedColormap\n",
        "\n",
        "# -----------------------------\n",
        "# Step 8: 2D Visualization with PCA\n",
        "# -----------------------------\n",
        "pca = PCA(n_components=2)\n",
        "X_train_pca = pca.fit_transform(X_train_scaled)\n",
        "X_test_pca = pca.transform(X_test_scaled)\n",
        "\n",
        "# Create a colormap\n",
        "cmap_light = ListedColormap(['#FFAAAA', '#AAAAFF'])\n",
        "cmap_bold  = ListedColormap(['#FF0000', '#0000FF'])\n",
        "\n",
        "# Logistic Regression decision boundary\n",
        "xx, yy = np.meshgrid(np.linspace(X_test_pca[:,0].min()-1, X_test_pca[:,0].max()+1, 200),\n",
        "                     np.linspace(X_test_pca[:,1].min()-1, X_test_pca[:,1].max()+1, 200))\n",
        "Z = lr.predict(pca.inverse_transform(np.c_[xx.ravel(), yy.ravel()]))\n",
        "Z = Z.reshape(xx.shape)\n",
        "\n",
        "plt.figure(figsize=(8,6))\n",
        "plt.contourf(xx, yy, Z, alpha=0.2, cmap=cmap_light)\n",
        "plt.scatter(X_test_pca[:,0], X_test_pca[:,1], c=y_test, cmap=cmap_bold, edgecolor='k', s=50)\n",
        "plt.xlabel(\"Principal Component 1\")\n",
        "plt.ylabel(\"Principal Component 2\")\n",
        "plt.title(\"Logistic Regression Decision Boundary (2D PCA)\")\n",
        "plt.legend(handles=[\n",
        "    plt.Line2D([0], [0], marker='o', color='w', label='Not Spam', markerfacecolor='#0000FF', markersize=8),\n",
        "    plt.Line2D([0], [0], marker='o', color='w', label='Spam', markerfacecolor='#FF0000', markersize=8)\n",
        "])\n",
        "plt.show()\n",
        "\n",
        "# k-NN decision boundary\n",
        "Z_knn = knn.predict(pca.inverse_transform(np.c_[xx.ravel(), yy.ravel()]))\n",
        "Z_knn = Z_knn.reshape(xx.shape)\n",
        "\n",
        "plt.figure(figsize=(8,6))\n",
        "plt.contourf(xx, yy, Z_knn, alpha=0.2, cmap=cmap_light)\n",
        "plt.scatter(X_test_pca[:,0], X_test_pca[:,1], c=y_test, cmap=cmap_bold, edgecolor='k', s=50)\n",
        "plt.xlabel(\"Principal Component 1\")\n",
        "plt.ylabel(\"Principal Component 2\")\n",
        "plt.title(\"k-NN Decision Boundary (2D PCA)\")\n",
        "plt.legend(handles=[\n",
        "    plt.Line2D([0], [0], marker='o', color='w', label='Not Spam', markerfacecolor='#0000FF', markersize=8),\n",
        "    plt.Line2D([0], [0], marker='o', color='w', label='Spam', markerfacecolor='#FF0000', markersize=8)\n",
        "])\n",
        "plt.show()\n"
      ],
      "metadata": {
        "id": "g3w1yftVhAh-"
      },
      "execution_count": null,
      "outputs": []
    },
    {
      "cell_type": "markdown",
      "source": [
        "Custom Message To Predict"
      ],
      "metadata": {
        "id": "KxYoIsEChNVa"
      }
    },
    {
      "cell_type": "code",
      "source": [
        "new_message = \"Check my balance\"\n",
        "\n",
        "# Perform Transformation\n",
        "new_X = vectorizer.transform([new_message]).toarray()\n",
        "new_X_scaled = scaler.transform(new_X)\n",
        "\n",
        "# Predict\n",
        "pred_lr = lr.predict(new_X_scaled)[0]\n",
        "pred_knn = knn.predict(new_X_scaled)[0]\n",
        "\n",
        "print(f\"\\nLogistic Regression Prediction: {'Spam' if pred_lr==1 else 'Not Spam'}\")\n",
        "print(f\"k-NN Prediction: {'Spam' if pred_knn==1 else 'Not Spam'}\")\n"
      ],
      "metadata": {
        "id": "m6WkqmqMg6Zn"
      },
      "execution_count": null,
      "outputs": []
    },
    {
      "cell_type": "markdown",
      "source": [
        "**View Neighbor**"
      ],
      "metadata": {
        "id": "eXe9miKdiVNh"
      }
    },
    {
      "cell_type": "code",
      "source": [
        "\n",
        "# Find nearest neighbors\n",
        "distances, indices = knn.kneighbors(new_X_scaled, n_neighbors=3)\n",
        "\n",
        "print(\"\\nNearest neighbors for the new message:\")\n",
        "for i, idx in enumerate(indices[0]):\n",
        "    label = \"Spam\" if y.iloc[idx]==1 else \"Not Spam\"\n",
        "    print(f\"{i+1}. '{df['text'].iloc[idx]}' - Label: {label}, Distance: {distances[0][i]:.2f}\")"
      ],
      "metadata": {
        "id": "CtxnWBZxiGLt"
      },
      "execution_count": null,
      "outputs": []
    },
    {
      "cell_type": "markdown",
      "source": [],
      "metadata": {
        "id": "U6Ml6gegPSzs"
      }
    }
  ]
}