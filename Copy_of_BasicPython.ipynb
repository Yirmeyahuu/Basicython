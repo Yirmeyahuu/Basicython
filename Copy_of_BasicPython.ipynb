{
  "nbformat": 4,
  "nbformat_minor": 0,
  "metadata": {
    "colab": {
      "provenance": [],
      "include_colab_link": true
    },
    "kernelspec": {
      "name": "python3",
      "display_name": "Python 3"
    },
    "language_info": {
      "name": "python"
    }
  },
  "cells": [
    {
      "cell_type": "markdown",
      "metadata": {
        "id": "view-in-github",
        "colab_type": "text"
      },
      "source": [
        "<a href=\"https://colab.research.google.com/github/Yirmeyahuu/Basicython/blob/main/Copy_of_BasicPython.ipynb\" target=\"_parent\"><img src=\"https://colab.research.google.com/assets/colab-badge.svg\" alt=\"Open In Colab\"/></a>"
      ]
    },
    {
      "cell_type": "markdown",
      "source": [
        "# Introduction to Python Syntax\n"
      ],
      "metadata": {
        "id": "hN5WMljbs0ZD"
      }
    },
    {
      "cell_type": "markdown",
      "source": [
        "Printing Statement"
      ],
      "metadata": {
        "id": "MTzOjcyjs6PI"
      }
    },
    {
      "cell_type": "code",
      "execution_count": null,
      "metadata": {
        "id": "IfPKZJVesxDs"
      },
      "outputs": [],
      "source": [
        "print(\"Hello world\")"
      ]
    },
    {
      "cell_type": "markdown",
      "source": [
        "Declare Variavles number and String"
      ],
      "metadata": {
        "id": "VTb2VHQqs_hp"
      }
    },
    {
      "cell_type": "code",
      "source": [
        "name = \"Lesly\"\n",
        "damage = 400\n",
        "print(name)\n",
        "print(damage)"
      ],
      "metadata": {
        "id": "7DYJF0u7tGaI"
      },
      "execution_count": null,
      "outputs": []
    },
    {
      "cell_type": "markdown",
      "source": [
        "String Concatenation"
      ],
      "metadata": {
        "id": "PNdKKekjtbIg"
      }
    },
    {
      "cell_type": "code",
      "source": [
        "fname = \"Ryan\"\n",
        "lname = \"Sun\"\n",
        "fullname = fname + lname\n",
        "\n",
        "print(\"Full Name \", fullname)"
      ],
      "metadata": {
        "id": "GxmGhX1wtech"
      },
      "execution_count": null,
      "outputs": []
    },
    {
      "cell_type": "markdown",
      "source": [
        "Conditions"
      ],
      "metadata": {
        "id": "LR-zNGCeuDm4"
      }
    },
    {
      "cell_type": "code",
      "source": [
        "\n",
        "score = 85\n",
        "if score >= 90:\n",
        "    print(\"Grade: A\")\n",
        "elif score >= 80:\n",
        "    print(\"Grade: B\")\n",
        "elif score >= 70:\n",
        "    print(\"Grade: C\")\n",
        "elif score >= 60:\n",
        "    print(\"Grade: D\")\n",
        "else:\n",
        "    print(\"Grade: F\")"
      ],
      "metadata": {
        "id": "HONRLOCZtr4t"
      },
      "execution_count": null,
      "outputs": []
    },
    {
      "cell_type": "markdown",
      "source": [
        "List (Array-Like)"
      ],
      "metadata": {
        "id": "DgWXvXnruLMT"
      }
    },
    {
      "cell_type": "code",
      "source": [
        "my_list = [\"Orange\", \"apple\",\"Avocado\"]\n",
        "print(\"List:\", my_list)\n",
        "print(my_list[1])\n",
        "\n",
        "my_list[1] = \"Banana\" # modify\n",
        "my_list.append(\"Strawberry\") # Add to the end\n",
        "\n",
        "print(\"Updated List:\", my_list)\n"
      ],
      "metadata": {
        "id": "eTAzLwS3uOPT"
      },
      "execution_count": null,
      "outputs": []
    },
    {
      "cell_type": "markdown",
      "source": [
        "List Can Accept Any Datatypes"
      ],
      "metadata": {
        "id": "XlYsE0x0u3w5"
      }
    },
    {
      "cell_type": "code",
      "source": [
        "rand_list = [1, \"apple\", 3.14, True]\n",
        "print(\"List:\", rand_list)\n",
        "\n",
        "print(rand_list[1])\n",
        "\n",
        "rand_list.append(33)  # Add item\n",
        "\n",
        "print(rand_list)\n"
      ],
      "metadata": {
        "id": "zeMGBHs3u3OL"
      },
      "execution_count": null,
      "outputs": []
    },
    {
      "cell_type": "markdown",
      "source": [
        "Dictionary"
      ],
      "metadata": {
        "id": "5zptepa-vqlO"
      }
    },
    {
      "cell_type": "code",
      "source": [
        "\n",
        "my_dictionary = {\"name\": \"Alice\", \"damage\": 20}\n",
        "print(\"Dictionary:\", my_dictionary)\n",
        "\n",
        "print(my_dictionary[\"name\"]) # Accessing\n",
        "\n",
        "my_dictionary[\"age\"] = 26  # Update value\n",
        "my_dictionary[\"defense\"] = 6  # Add new key-value pair\n",
        "\n",
        "print(\"Updated Dictionary:\", my_dictionary)"
      ],
      "metadata": {
        "id": "wUnrmj5Yurs8"
      },
      "execution_count": null,
      "outputs": []
    },
    {
      "cell_type": "markdown",
      "source": [
        "Tuple (Immutable or cannot be modify after creation)"
      ],
      "metadata": {
        "id": "deGyGkS_wEaW"
      }
    },
    {
      "cell_type": "code",
      "source": [
        "my_tuple = (1, \"orange\", 2.718, False)\n",
        "print(\"Tuple:\", my_tuple)\n",
        "\n",
        "print(my_tuple[2]) # Accessing elements\n"
      ],
      "metadata": {
        "id": "Zy-w2pwWwIod"
      },
      "execution_count": null,
      "outputs": []
    },
    {
      "cell_type": "markdown",
      "source": [
        "Looping"
      ],
      "metadata": {
        "id": "PVoiVjhcwWlr"
      }
    },
    {
      "cell_type": "code",
      "source": [
        "for i in range(5):  # Iterates from 0 to 4\n",
        "    print(\"For \", i)\n",
        "\n",
        "count = 0\n",
        "while count < 5:\n",
        "    print(\"While: \" ,count)\n",
        "    count += 1  # Output: 0 1 2 3 4\n"
      ],
      "metadata": {
        "id": "cs62PGgPwbed"
      },
      "execution_count": null,
      "outputs": []
    },
    {
      "cell_type": "markdown",
      "source": [
        "Functions"
      ],
      "metadata": {
        "id": "3gRwW2FKz881"
      }
    },
    {
      "cell_type": "code",
      "source": [
        "def add_numbers(a, b):\n",
        "    result = a + b\n",
        "    return result\n",
        "\n",
        "sum = add_numbers(1,2)\n",
        "\n",
        "print(\"Sum \", sum)"
      ],
      "metadata": {
        "id": "S66QAR1e0AiG"
      },
      "execution_count": null,
      "outputs": []
    }
  ]
}